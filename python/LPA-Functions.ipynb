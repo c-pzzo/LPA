{
 "cells": [
  {
   "cell_type": "markdown",
   "id": "d4ca12b8-81de-4f69-9f0e-c8d9d5fa3362",
   "metadata": {},
   "source": [
    "# About\n",
    "Lorem ipsum"
   ]
  },
  {
   "cell_type": "markdown",
   "id": "b98171d2-6c79-46ee-8e7c-96634357dca7",
   "metadata": {},
   "source": [
    "---\n",
    "# Libraries"
   ]
  },
  {
   "cell_type": "code",
   "execution_count": 1,
   "id": "ae21176b-9605-4222-96ee-bb5738d4679c",
   "metadata": {},
   "outputs": [],
   "source": [
    "import os\n",
    "import json\n",
    "import numpy as np\n",
    "import pandas as pd\n",
    "\n",
    "import openai\n",
    "from openai import OpenAI\n",
    "\n",
    "import google.generativeai as genai\n",
    "\n",
    "import requests\n",
    "from PIL import Image, ImageDraw, ImageFont\n",
    "from io import BytesIO\n",
    "\n",
    "import textwrap"
   ]
  },
  {
   "cell_type": "markdown",
   "id": "0e1252d4-88ad-4fa0-a3fd-8b55f804741c",
   "metadata": {},
   "source": [
    "---\n",
    "# User-Defined Functions"
   ]
  },
  {
   "cell_type": "markdown",
   "id": "ee0204dd-6c02-48bf-8832-5326be60975e",
   "metadata": {},
   "source": [
    "## ■ API functions"
   ]
  },
  {
   "cell_type": "code",
   "execution_count": 2,
   "id": "c8febc50-fba8-44cf-9d5d-87d05f50e106",
   "metadata": {},
   "outputs": [],
   "source": [
    "def openai_api_test(openai_api_key):\n",
    "\n",
    "    os.environ[\"OPENAI_API_KEY\"] = openai_api_key\n",
    "    client = OpenAI(api_key=os.environ.get(\"OPENAI_API_KEY\"))\n",
    "    \n",
    "    try:    \n",
    "        chat_completion = client.chat.completions.create(\n",
    "            messages=[\n",
    "                {\n",
    "                    \"role\": \"user\",\n",
    "                    \"content\": \"Return 'Ok'\",\n",
    "                }\n",
    "            ],\n",
    "            model=\"gpt-3.5-turbo\",\n",
    "        )\n",
    "        return chat_completion.to_dict()[\"choices\"][0][\"message\"][\"content\"]\n",
    "        \n",
    "    except Exception as e:\n",
    "        return e    "
   ]
  },
  {
   "cell_type": "code",
   "execution_count": 3,
   "id": "58e659bb-1abf-4372-af6c-9d6f5915c879",
   "metadata": {},
   "outputs": [],
   "source": [
    "def google_api_test(googleai_api_key):\n",
    "    \n",
    "    genai.configure(api_key=googleai_api_key)\n",
    "    \n",
    "    genai_model = genai.GenerativeModel(\n",
    "        model_name='models/gemini-1.5-pro-latest',\n",
    "    )\n",
    "\n",
    "    try:\n",
    "        response = genai_model.generate_content(\"Return: 'Ok'\")\n",
    "        return response.candidates[0].content.parts[0].text.replace(\" \\n\", \"\")\n",
    "        \n",
    "    except Exception as e:\n",
    "        return e"
   ]
  },
  {
   "cell_type": "markdown",
   "id": "adb34d21-8772-43fe-829e-23ff8d3bda63",
   "metadata": {},
   "source": [
    "## ■ GoogleAI responses"
   ]
  },
  {
   "cell_type": "markdown",
   "id": "c6826c20-d28d-47b4-ab5e-89d63c586644",
   "metadata": {},
   "source": [
    "### > Text-to-text"
   ]
  },
  {
   "cell_type": "code",
   "execution_count": 4,
   "id": "b1918b0f-0832-465f-84a9-169e1ce9f507",
   "metadata": {},
   "outputs": [],
   "source": [
    "def t2t(text):\n",
    "    response = genai_model.generate_content(text)\n",
    "    \n",
    "    return response.text"
   ]
  },
  {
   "cell_type": "markdown",
   "id": "c4eb99f2-0e78-40d8-a08a-76e4ebe85127",
   "metadata": {},
   "source": [
    "### > Image-to-text"
   ]
  },
  {
   "cell_type": "code",
   "execution_count": 5,
   "id": "c4633ee5-c0ce-4929-9440-85806b44030d",
   "metadata": {},
   "outputs": [],
   "source": [
    "def i2t(img):\n",
    "    \"\"\"\n",
    "    image to text\n",
    "    \"\"\"\n",
    "    response = genai_model.generate_content(img)\n",
    "    \n",
    "    return response.text"
   ]
  },
  {
   "cell_type": "markdown",
   "id": "30224886-e2f8-4492-96c8-80fb8371e4c0",
   "metadata": {},
   "source": [
    "### > Text & Image-to-text"
   ]
  },
  {
   "cell_type": "code",
   "execution_count": 6,
   "id": "a60dfb47-6e51-4d7a-8159-71797db4b436",
   "metadata": {},
   "outputs": [],
   "source": [
    "def ti2t(text, img):\n",
    "    \"\"\"\n",
    "    The generate_content method can handle a wide variety of use cases depending on what the underlying model supports, including:\n",
    "    * multi-turn chat\n",
    "    * multimodal input. \n",
    "    \n",
    "    The available models only support text and images as input, and text as output.\n",
    "    \"\"\"\n",
    "    response = genai_model.generate_content([text, img])\n",
    "    \n",
    "    return response.text"
   ]
  },
  {
   "cell_type": "markdown",
   "id": "f46b8325-9d16-48c8-bf89-688e5543e2a2",
   "metadata": {},
   "source": [
    "## ■ OpenAI (Dall-E) responses"
   ]
  },
  {
   "cell_type": "markdown",
   "id": "dcae42d4-564d-406a-b788-33cf13a71c9c",
   "metadata": {},
   "source": [
    "### > Text-to-image"
   ]
  },
  {
   "cell_type": "code",
   "execution_count": 7,
   "id": "d0806d5a-14de-455d-a231-020c17489e5d",
   "metadata": {},
   "outputs": [],
   "source": [
    "def get_image_from_DALL_E_3_API(user_prompt,\n",
    "                               image_dimension=\"1024x1024\",\n",
    "                               image_quality=\"hd\", #\"standard\"\n",
    "                               model=\"dall-e-3\",\n",
    "                               nb_final_image=1):\n",
    "   response = client.images.generate(\n",
    "     model = model,\n",
    "     prompt = user_prompt,\n",
    "     size = image_dimension,\n",
    "     quality = image_quality,\n",
    "     n=nb_final_image,\n",
    "   )\n",
    "\n",
    "\n",
    "   image_url = response.data[0].url\n",
    "  \n",
    "   display(Image(url=image_url))"
   ]
  },
  {
   "cell_type": "markdown",
   "id": "ffe7d930-a0a5-4f3f-94db-ffadcbd0a70a",
   "metadata": {},
   "source": [
    "Pricing details\n",
    "\n",
    "The pricing details are provided for each one of the DALL-E versions. As we can see, only DALL-E 3 provides standard and high-definition image qualities and their corresponding resolutions.\n",
    "\n",
    "| Model | Quality | Resolution | Price per image (in US$) |\n",
    "|---|---|---|---|\n",
    "| DALL-E | Standard | 1024x1024 | 0.13 |\n",
    "| DALL-E 2 |  | 1024×1024 | 0.020 |\n",
    "| |  | 512x512 | 0.018 |\n",
    "| |  | 256x256 | 0.016 |\n",
    "| DALL-E 3 | Standard | 1024x1024 | 0.040 |\n",
    "| |  | 1024×1792, 1792×1024 | 0.080 |\n",
    "|  | HD | 1024x1024 | 0.080 |\n",
    "| |  | 1024×1792, 1792×1024 | 0.120 |"
   ]
  },
  {
   "cell_type": "markdown",
   "id": "d3879a6c-5c69-429f-aa6c-619e65dd6e21",
   "metadata": {},
   "source": [
    "## ■ JSON Parser"
   ]
  },
  {
   "cell_type": "code",
   "execution_count": 8,
   "id": "4327ad76-4dc3-488f-861f-936e399190f3",
   "metadata": {},
   "outputs": [],
   "source": [
    "def dummy_json_parser(model, prompt):\n",
    "    # Dummy function for text to JSON parser\n",
    "    parser = model(prompt)\n",
    "    parser = parser.replace(\"\\n\", \"\")\n",
    "    parser = parser.replace(\"json{\", \"{\")\n",
    "    parser = parser.replace(\"```\", \"\")\n",
    "    return json.loads(parser)"
   ]
  },
  {
   "cell_type": "markdown",
   "id": "1d600424-58d0-48a4-b39d-3362aec2fed5",
   "metadata": {},
   "source": [
    "## ■ Script Generation"
   ]
  },
  {
   "cell_type": "code",
   "execution_count": 9,
   "id": "e9a87cf9-8d16-43fa-83dc-7a7909789857",
   "metadata": {},
   "outputs": [],
   "source": [
    "def s0_meta_userprompt_info(user_input):\n",
    "    \"\"\"\n",
    "    Meta information from user Input.\n",
    "    The user starts with a simple story idea. This function will compile different metadata from it.\n",
    "    \"\"\"\n",
    "    \n",
    "    prompt_ui = f\"\"\"This tool analyzes and organizes elements of a statement into a JSON object. You'll provide the statement within triple ticks after the following instructions.\n",
    "    \n",
    "    The JSON response will categorize the statement based on these key-value pairs:\n",
    "    \n",
    "    main_characters: Who are the people involved? Infer the character's job and refer to them by gender and job position. (\"User\" if the implicit author of the statement is active during the statement, \"None\" if directed at \"you\", or unclear, or the implicit author of the statement just gives an instruction). Separate by commas every explicitly mentioned character. \n",
    "    place: Where does the statement take place? Separate by commas all mentioned locations (return a single \"None\" if unclear).\n",
    "    object: Separate by commas physical, real-world objects (not places, digital media). Ignore if similar to \"place\". (return a single \"None\" if unclear). (return a single \"None\" if unclear).\n",
    "    goal: Provide a detailed overall objective of the statement. If it's about creating content (video, short, TikTok, commercial), restate it as a \"short story\" for clarity.\n",
    "    genre: Infer the movie genre of the story. (Return 'Slice of life' if unclear)\n",
    "    action: What's happening? Does the object or main character have an action? Provide a JSON object with \"object_action\" and \"character_action\" keys with their respective evaluations. (Rewrite the answer for 'character_action' as 'None' when the action is related, similar, or equal to the overall objective of the statement)\n",
    "    weather: Does the statement mention any weather conditions? Separate by commas all mentioned elements (None if unclear).\n",
    "    category: The statement's category: 'Business' (transactions/solutions/business or merchandise promotion), 'Educational' (teaching), or 'Entertainment' (default). \n",
    "    restrictions: Separate by commas anything the statement says shouldn't be included. (return a a single \"None\" if unclear).\n",
    "    Now, please provide the statement for analysis within triple ticks ```{user_input}```\n",
    "    \"\"\"    \n",
    "\n",
    "    p0  = dummy_json_parser(t2t, prompt_ui)\n",
    "    \n",
    "    return p0\n",
    "    "
   ]
  },
  {
   "cell_type": "code",
   "execution_count": 10,
   "id": "fc3e9020-a4b2-4f0e-81ba-831d47a12ea4",
   "metadata": {},
   "outputs": [],
   "source": [
    "def s1_scene_treatment(p0):\n",
    "    \"\"\"\n",
    "    Scene treatment\n",
    "    The metadata compiled from the previous step will be extended into a full scene.\n",
    "    \"\"\"\n",
    "    \n",
    "    vague_idea = f\"State a single graphic narration of a plot idea. The original concept development for this story has the goal of a `{p0['goal']}` in the genre `{p0['genre']}` and with the purpose of `{p0['category']}`.  I want your input to provide a more thorough description of the concept, and to construct a narrative chain order. I want the story plot to be composed of simple places, objects, and people. to facilitate the understanding. No fantasy lands, no space, no bottom of the ocean. No fantastical elements. \"\n",
    "    \n",
    "    str = \"\" \n",
    "    \n",
    "    if \"None\" in [val for val in p0.values()]:    \n",
    "        \n",
    "        str = \"Be mindful about incorporating the following elements into the plot: \\n \"\n",
    "        \n",
    "        if p0[\"main_characters\"] == \"None\":\n",
    "            str += \"* main_characters: Define the main characters involved in the development of the story. Describe them with gender, job position, and personality traits that would move the plot forward. Give them a human name. Contain each description within a sentence. \\n \"\n",
    "        \n",
    "        if p0[\"place\"] == \"None\":\n",
    "            str += \"* place: Define a physical location where the story would make the most sense to take place. Consider any place accessible to the public, even businesses or a home. No fantastical settings. No space settings. No bottom of the sea. \\n \"\n",
    "        \n",
    "        if p0[\"object\"] == \"None\":\n",
    "            str += \"* object: Define an object that is relevant to the plot of the story. An object that facilitates reaching the goal of the story. Consider the symbolism of the object to represent an idea or quality in benefit of the evolution of the story. \\n \"\n",
    "            \n",
    "        if p0[\"weather\"] == \"None\":\n",
    "            str += \"* weather: Define the best weather conditions in tune to the mood of the story. \\n \"\n",
    "            \n",
    "        if p0[\"action\"][\"object_action\"] == \"None\":\n",
    "            str += \"* object_action: What's happening with the object? Is the object involved in any action(s)? \\n \"\n",
    "                \n",
    "        if p0[\"action\"][\"character_action\"] == \"None\":\n",
    "            str += \"* character_action: What's happening with the characters? In what actions are the characters involved? \\n \"\n",
    "            \n",
    "        if p0[\"restrictions\"] == \"None\":\n",
    "            str += \"\\n Additionally, keep the story according to PG-13 movie guidelines. \\n \"\n",
    "        \n",
    "    str += \"Remember, don't format your answer with the previous list of element. I just a straight narration with the plot for the story.\"\n",
    "    \n",
    "    main_plotline = t2t(vague_idea + str)    \n",
    "\n",
    "    return main_plotline"
   ]
  },
  {
   "cell_type": "code",
   "execution_count": 11,
   "id": "7d39f3fd-a069-482c-8382-44587298c375",
   "metadata": {},
   "outputs": [],
   "source": [
    "def s2_script_prompt(p0, main_plotline):\n",
    "    \n",
    "    scene_treatment_prompt = f\"\"\"Task: You are a comic book writer tasked with creating a script for graphic narration. This script will guide your artist collaborator in drawing each panel of the comic book. You consider the following plotline as main guideline: `{main_plotline}`.\n",
    "    \n",
    "    Starting Point: Choose a story premise that aligns with the goal of a `{p0['goal']}` in the genre `{p0['genre']}` and with the purpose of `{p0['category']}`. Here are your options:\n",
    "    \n",
    "    * \"What if?\": Explores reality-based issues and fabrications, focusing on fundamental human concerns like fear and curiosity. Teaches the audience how to handle threats.\n",
    "    * \"Let me tell you what happened to\": Relates a private event involving a relatable character, sharing intimate experiences with the audience.\n",
    "    * \"Our protagonist is thrown into this new adventure\": Features a well-defined character facing a straightforward, challenging adventure. This premise involves simple problems and one-dimensional characters.\n",
    "    * \"Have you heard about...?\": Centers around a joke that leads to an unexpected conclusion, utilizing humor techniques like irony, wordplay, and misdirection. Starts with a prologue.\n",
    "    \n",
    "    Script Framework: Structure your script as a JSON object with the following keys:\n",
    "    \n",
    "    * \"title\": Place only once an appropriate title for the story at the beginning of the JSON object.\n",
    "    * \"characters\": List characters using upper case for character names. Describe them on detail and include some background that would serve the storyline.\n",
    "    * \"settings\": Describe the settings where and when the storyline takes place. If historical context isn't provided, assume a current day setting. Characters are free to roam through multiple settings if the storyline is large. \n",
    "    * \"panels\": Array of objects, each object representing a panel in the comic. The panels should contain:\n",
    "      - \"panel_number\": Mandatory. Numeric identifier for each panel.\n",
    "      - \"panel_description\": Mandatory. Provide a detailed graphic narration of the scene, including character appearances and actions.\n",
    "      - \"characters_involved\": Make a list of the characters that are mentioned during the scene. If unclear return an empty list.\n",
    "      - \"setting_involved\": Generate a dictionary outlining the setting featured in the panel. . Each dictionary should contain three key-value pairs: \"setting\" for the setting itself, \"perspective\" for whether it's observed from an \"interior\" or \"exterior\" perspective, and \"location\" for whether it's located within a \"building\" or \"outdoor space\". Ensure to only include one of the settings that have been previously specified. \n",
    "      - \"captions\": Optional. Use \"CAPTION:\" followed by the text to add context such as time, location, or background information.\n",
    "      - \"dialogue\": Optional. Use the format 'CHARACTER NAME: dialogue text' for speaking characters. Use \"NO POINTER:\" for speaking characters not yet introduced.\n",
    "    vague_idea\n",
    "    \n",
    "    Detailed Guidelines:\n",
    "    * Panels: \n",
    "      - Visual Description: Provide detailed descriptions for the artist, covering the development of the scene, character appearances, and actions.\n",
    "      - Segmented Panels: Break the script into numbered panels, each depicting a specific action or moment.\n",
    "      - Character Development: Include detailed character descriptions such as physical appearance, attire, and personality traits. Describe character gestures that are easy to watch and understand. Utilize pantomime to vividly depict the character's actions and expressions, enhancing the narrative through silent, expressive motions.\n",
    "      - Captions Usage: Use captions to add context, such as time, location, and background information.\n",
    "      - Genre and Historical Context: Maintain consistency with the chosen genre and historical context.\n",
    "      - Emotional Engagement: Craft scenes that evoke emotions aligned with the genre, enhancing character interactions and visual storytelling.\n",
    "      - Storytelling Structure: Ensure the script follows a linear progression, integrating flashbacks or past references seamlessly when necessary.\n",
    "      - Main Storyline: Develop a compelling main storyline to guide the narrative.\n",
    "      - Character Design and Imagery: Focus on creating visually memorable characters and scenes.\n",
    "      - Dialogue and Interaction: Use dialogue to advance the plot, develop characters, and reveal relationships and motivations.\n",
    "      - Purpose: Your script should aim to meet the project’s goal, fit within the specified genre, and fulfill the intended category.\n",
    "    \n",
    "    \"\"\"\n",
    "    \n",
    "    main_script = dummy_json_parser(t2t, scene_treatment_prompt)\n",
    "\n",
    "    return main_script"
   ]
  },
  {
   "cell_type": "code",
   "execution_count": 12,
   "id": "80482e50-0eec-4634-8a54-9d9d5a3bfe92",
   "metadata": {},
   "outputs": [],
   "source": [
    "def s3_internal_setting_update(main_script):\n",
    "    \"\"\"\n",
    "    This function will augment with visual details about the location where the story takes place.\n",
    "    This facilitates consistent AI image prompting\n",
    "    \"\"\"\n",
    "    \n",
    "    for s in main_script[\"settings\"]:\n",
    "        setting_update = t2t(f\"Revise and elaborate on the physical description of the location `{s}` described as `{main_script['settings'][s]}`. Incorporate details such as colors, style, and historically accurate background items, including any furniture or decor present. Concentrate solely on the visual aspects without introducing any emotional elements associated with the location.\")\n",
    "        main_script[\"settings\"][s] = setting_update\n",
    "\n",
    "    return main_script"
   ]
  },
  {
   "cell_type": "code",
   "execution_count": 13,
   "id": "81c9d649-cc7c-4834-b83a-c7e860ee6911",
   "metadata": {},
   "outputs": [],
   "source": [
    "def s3_internal_character_update(main_script):\n",
    "    \"\"\"\n",
    "    This function will augment with visual details about the characters that take place in the story.\n",
    "    This facilitates consistent AI image prompting\n",
    "    \"\"\"\n",
    "    \n",
    "    for k in main_script['characters']:\n",
    "        character_update = t2t(f\"Rewrite and expand on the character description from {main_script['characters'][k]} to create a detailed physical description for an AI image prompt. Include details about the character's age, height, gender, any unique physical features, and hair (including color, style, and length) for consistent art generation. Describe their clothing style, focusing on the type and style of garments. Focus exclusively on the physical aspects without adding any background information irrelevant to the AI image prompt. Don't use any words that may trigger safety settings. Don't add accessories carried by hand.\")\n",
    "        main_script['characters'][k] = character_update\n",
    "\n",
    "    return main_script"
   ]
  },
  {
   "cell_type": "code",
   "execution_count": 14,
   "id": "32248b02-f1a3-45fe-bc33-ef8d89486a31",
   "metadata": {},
   "outputs": [],
   "source": [
    "def s4_AIimage_generation(main_script):\n",
    "    \"\"\"\n",
    "    Add new section `ai_image_prompt` with the visual descriptions defined in s3.\n",
    "    \"\"\"\n",
    "    \n",
    "    for p in main_script[\"panels\"]:\n",
    "        augment_prompt = \"Generate a hyper-realistic image based on this panel description: `\" + p[\"panel_description\"] + \"` \\n \"\n",
    "        \n",
    "        if len(p[\"characters_involved\"]) > 0:\n",
    "            augment_prompt += \"Use the character descriptions provided below as a blueprint to accurately shape and define the characters: \\n \"\n",
    "            for c in p[\"characters_involved\"]:\n",
    "                augment_prompt += \"* \" + c + \": \" + main_script[\"characters\"][c] + \"\\n\"\n",
    "        \n",
    "        if p[\"setting_involved\"][\"perspective\"] == 'interior' and p[\"setting_involved\"][\"location\"] == 'building':\n",
    "            augment_prompt += \" The panel is set in the following setting: \\n \" + \"`\" + main_script[\"settings\"][p[\"setting_involved\"][\"setting\"]] + \"` \\n\"\n",
    "    \n",
    "        p[\"ai_image_prompt\"] = augment_prompt\n",
    "\n",
    "    return main_script"
   ]
  },
  {
   "cell_type": "markdown",
   "id": "7dcc01ec-369a-4def-bb6f-5e95213b0bd4",
   "metadata": {},
   "source": [
    "## ■ Massive Image Generation"
   ]
  },
  {
   "cell_type": "code",
   "execution_count": 15,
   "id": "ab8c6344-19e8-452c-a573-8e05d0bad60d",
   "metadata": {},
   "outputs": [],
   "source": [
    "def AI_image_generation(main_script, i):\n",
    "    response = client.images.generate(\n",
    "     model = \"dall-e-3\",\n",
    "     prompt = main_script[\"panels\"][i][\"ai_image_prompt\"],\n",
    "     size = \"1024x1024\",\n",
    "     quality = \"hd\",\n",
    "     n=1,\n",
    "    )\n",
    "    \n",
    "    image_url = response.data[0].url\n",
    "    \n",
    "    response = requests.get(image_url)\n",
    "    image_data = response.content\n",
    "    original_image = Image.open(BytesIO(image_data))\n",
    "    \n",
    "    width, height = original_image.size \n",
    "    \n",
    "    top_margin = 40\n",
    "    bottom_margin = 0\n",
    "    \n",
    "    new_width = width\n",
    "    new_height = height + top_margin + bottom_margin\n",
    "    \n",
    "    # Create a new image with added top and bottom margins\n",
    "    new_width = original_image.width\n",
    "    new_height = original_image.height + top_margin + bottom_margin\n",
    "    new_image = Image.new(\"RGB\", (new_width, new_height), color=\"white\")\n",
    "    new_image.paste(original_image, (0, top_margin))\n",
    "    \n",
    "    # Add text to the bottom margin\n",
    "    draw = ImageDraw.Draw(new_image)\n",
    "    font = ImageFont.load_default(30)\n",
    "    \n",
    "    draw.text((10, 0), f\"Title: {main_script['title']}\", fill =(0, 0, 0),font=font)\n",
    "    draw.text((width * 3 //4 + 100 , 0), f\"Panel: {main_script['panels'][i]['panel_number']}\", fill =(0, 0, 0),font=font)\n",
    "    \n",
    "    new_image.save(f\"images/{i+1}_{main_script['title'].replace(' ', '_')}.jpg\")"
   ]
  },
  {
   "cell_type": "code",
   "execution_count": 59,
   "id": "084af7b3-0a5e-43cf-a6f6-7721ebaa584e",
   "metadata": {},
   "outputs": [],
   "source": [
    "def AI_image_generation2(main_script, i):\n",
    "    response = client.images.generate(\n",
    "     model = \"dall-e-3\",\n",
    "     prompt = main_script[\"panels\"][i][\"ai_image_prompt\"],\n",
    "     size = \"1024x1024\",\n",
    "     quality = \"hd\",\n",
    "     n=1,\n",
    "    )\n",
    "    \n",
    "    image_url = response.data[0].url\n",
    "    \n",
    "    response = requests.get(image_url)\n",
    "    image_data = response.content\n",
    "    original_image = Image.open(BytesIO(image_data))\n",
    "    \n",
    "    width, height = original_image.size \n",
    "    \n",
    "    text_to_add = \"PANEL DESCRIPTION: \" + main_script['panels'][i]['panel_description']\n",
    "    \n",
    "    # Use textwrap to break text into lines based on available width\n",
    "    lines = textwrap.wrap(text_to_add, width=150)\n",
    "    \n",
    "    captions_text = main_script.get(\"panels\", [{}])[i].get(\"captions\")\n",
    "    \n",
    "    if captions_text:\n",
    "        lines += \" \"\n",
    "        lines += textwrap.wrap(captions_text, width=150)\n",
    "    \n",
    "    dialogue_text = main_script.get(\"panels\", [{}])[i].get(\"dialogue\")\n",
    "    \n",
    "    if dialogue_text:\n",
    "        lines += \" \"\n",
    "        lines += textwrap.wrap(dialogue_text, width=150)\n",
    "    \n",
    "    top_margin = 40\n",
    "    bottom_margin = 15 * (len(lines) + 3)\n",
    "    \n",
    "    new_width = width\n",
    "    new_height = height + top_margin + bottom_margin\n",
    "    \n",
    "    # Create a new image with added top and bottom margins\n",
    "    new_width = original_image.width\n",
    "    new_height = original_image.height + top_margin + bottom_margin\n",
    "    new_image = Image.new(\"RGB\", (new_width, new_height), color=\"white\")\n",
    "    new_image.paste(original_image, (0, top_margin))\n",
    "    \n",
    "    # Add text to the top margin\n",
    "    draw = ImageDraw.Draw(new_image)\n",
    "    font = ImageFont.load_default(30)\n",
    "    \n",
    "    draw.text((10, 0), f\"Title: {main_script['title']}\", fill =(0, 0, 0),font=font)\n",
    "    draw.text((width * 3 //4 + 100 , 0), f\"Panel: {main_script['panels'][i]['panel_number']}\", fill =(0, 0, 0),font=font)\n",
    "    \n",
    "    bottom_font_size = 15\n",
    "    font = ImageFont.load_default(bottom_font_size)\n",
    "    \n",
    "    # Calculate starting position for the first line\n",
    "    current_y = height + top_margin + bottom_font_size  # Adjust for margin and spacing\n",
    "    \n",
    "    for line in lines:\n",
    "        # Get text width using textlength\n",
    "        text_width = draw.textlength(line, font=font)\n",
    "    \n",
    "        # Calculate approximate text height based on font size\n",
    "        text_height = font.size  # Assuming single-line text\n",
    "    \n",
    "        # Draw the text on the image\n",
    "        draw.text((10, current_y), line, fill=(0, 0, 0), font=font)\n",
    "    \n",
    "        # Update current position for next line\n",
    "        current_y += text_height + 5  # Adjust for line spacing\n",
    "    \n",
    "    new_image.save(f\"images/{i+1}_{main_script['title'].replace(' ', '_')}.jpg\")"
   ]
  },
  {
   "cell_type": "markdown",
   "id": "fd275498-4233-4455-9aac-e4f71738a9e7",
   "metadata": {},
   "source": [
    "# Test"
   ]
  },
  {
   "cell_type": "code",
   "execution_count": 16,
   "id": "d7e700fb-eea3-4453-8eed-31576f6502ea",
   "metadata": {},
   "outputs": [
    {
     "data": {
      "text/plain": [
       "'Ok'"
      ]
     },
     "execution_count": 16,
     "metadata": {},
     "output_type": "execute_result"
    }
   ],
   "source": [
    "openai_api_key = pd.read_csv(r'/home/cesar/Coding/openai_api.txt', header=None)[0][0]\n",
    "openai_api_test(openai_api_key)"
   ]
  },
  {
   "cell_type": "code",
   "execution_count": 17,
   "id": "d1645676-b212-494e-a672-1b2275dafbd3",
   "metadata": {},
   "outputs": [
    {
     "data": {
      "text/plain": [
       "'Ok'"
      ]
     },
     "execution_count": 17,
     "metadata": {},
     "output_type": "execute_result"
    }
   ],
   "source": [
    "# TEST\n",
    "googleai_api_key = pd.read_csv(r'/home/cesar/Coding/GoogleAI-API-key.txt', header=None)[0][0]\n",
    "google_api_test(googleai_api_key)"
   ]
  },
  {
   "cell_type": "code",
   "execution_count": 18,
   "id": "04704d21-d4c9-45d6-bb54-cf1ec526db19",
   "metadata": {},
   "outputs": [],
   "source": [
    "genai_model = genai.GenerativeModel(model_name='models/gemini-1.5-pro-latest')\n",
    "client = OpenAI()"
   ]
  },
  {
   "cell_type": "code",
   "execution_count": 24,
   "id": "369f18ce-e2b9-4249-85c2-a74b0ac67a4b",
   "metadata": {},
   "outputs": [],
   "source": [
    "user_input = \"A commercial about coffee in a coffee shop\""
   ]
  },
  {
   "cell_type": "code",
   "execution_count": 25,
   "id": "2cb2efb1-3237-4e6a-b136-fc8b1538c91f",
   "metadata": {},
   "outputs": [],
   "source": [
    "p0            = s0_meta_userprompt_info(user_input)"
   ]
  },
  {
   "cell_type": "code",
   "execution_count": 26,
   "id": "352fefda-f682-431e-9b10-4ff04b02e295",
   "metadata": {},
   "outputs": [],
   "source": [
    "main_plotline = s1_scene_treatment(p0)"
   ]
  },
  {
   "cell_type": "code",
   "execution_count": 28,
   "id": "9004aaac-f423-4b2f-8739-de69b0d08d65",
   "metadata": {},
   "outputs": [],
   "source": [
    "main_script   = s2_script_prompt(p0, main_plotline)"
   ]
  },
  {
   "cell_type": "code",
   "execution_count": 29,
   "id": "4f105114-4b4b-4969-97cd-fd105a3addc1",
   "metadata": {},
   "outputs": [],
   "source": [
    "new_script    = main_script\n",
    "new_script    = s3_internal_setting_update(new_script)"
   ]
  },
  {
   "cell_type": "code",
   "execution_count": 30,
   "id": "7f04989f-2329-4ad0-a4d2-e33f54a18276",
   "metadata": {},
   "outputs": [],
   "source": [
    "new_script    = s3_internal_character_update(new_script)"
   ]
  },
  {
   "cell_type": "code",
   "execution_count": 31,
   "id": "d92aca82-7bde-42b9-9f5e-f510aabc7a38",
   "metadata": {},
   "outputs": [],
   "source": [
    "main_script   = new_script\n",
    "main_script   = s4_AIimage_generation(main_script)"
   ]
  },
  {
   "cell_type": "code",
   "execution_count": 32,
   "id": "e4e3149c-acf5-4ec9-9ce0-786458076aa4",
   "metadata": {},
   "outputs": [
    {
     "data": {
      "text/plain": [
       "{'title': 'The Daily Grind',\n",
       " 'characters': {'SARAH': '## Character Description:\\n\\n**Age:** Late 20s\\n\\n**Gender:** Female\\n\\n**Height:** Average \\n\\n**Build:** Slender\\n\\n**Hair:** Shoulder-length, light brown hair, usually styled in a loose, messy bun with several stray strands framing her face. \\n\\n**Eyes:** Large and expressive brown eyes, conveying a mix of weariness and optimism. \\n\\n**Facial Features:** Soft features with a gentle curve to her lips. Light freckles dust across her nose and cheeks. \\n\\n**Clothing Style:** Casual and comfortable.  Often wears well-worn jeans that fit loosely and cozy knitted sweaters in muted earth tones. The sweaters tend to be oversized and have a relaxed drape. Her footwear consists of practical sneakers or ankle boots. \\n',\n",
       "  'LIAM': '## Character Description for AI Image Prompt:\\n\\n**Age:** Early 30s\\n**Gender:** Male\\n**Height:** Average (around 5\\'9\" to 5\\'11\")\\n**Build:** Lean and slightly muscular \\n\\n**Face:**\\n*   Warm and friendly expression\\n*   Kind blue eyes\\n*   Slight smile lines around the eyes\\n\\n**Hair:**\\n*   Short brown hair, neatly combed and styled\\n*   Side part with a slight quiff in the front\\n\\n**Clothing:**\\n*   Casual attire: \\n    *   Henley shirt or a t-shirt \\n    *   Dark-wash jeans \\n    *   Canvas sneakers \\n*   Clean white apron covering the front of his torso and upper legs \\n'},\n",
       " 'settings': {'COFFEE SHOP': 'The COFFEE SHOP, with its exposed brick walls painted a warm, inviting terracotta, exudes a rustic charm. Sunlight filters through large, arched windows, casting a gentle glow on the mismatched wooden furniture within. Worn leather armchairs and plush velvet sofas, in deep jewel tones of emerald and sapphire, cluster around small, round tables of dark, polished mahogany.  Antique maps and vintage coffee advertisements adorn the walls, while shelves overflow with well-worn books and board games. The air is filled with the rich aroma of roasted coffee beans, emanating from a gleaming brass espresso machine perched upon a worn, marble countertop. The soft glow of Edison bulbs strung across the ceiling casts a warm light on the patrons below, highlighting the intricate patterns of the Persian rugs scattered across the dark hardwood floor. \\n'},\n",
       " 'panels': [{'panel_number': 1,\n",
       "   'panel_description': \"A wide shot of the coffee shop's exterior on a rainy day. Raindrops streak down the window, blurring the warm glow emanating from within. The shop's name, 'The Daily Grind', is displayed in elegant lettering above the door.\",\n",
       "   'characters_involved': [],\n",
       "   'setting_involved': {'setting': 'COFFEE SHOP',\n",
       "    'perspective': 'exterior',\n",
       "    'location': 'building'},\n",
       "   'captions': 'CAPTION: A rainy Tuesday morning in the city.',\n",
       "   'ai_image_prompt': \"Generate a hyper-realistic image based on this panel description: `A wide shot of the coffee shop's exterior on a rainy day. Raindrops streak down the window, blurring the warm glow emanating from within. The shop's name, 'The Daily Grind', is displayed in elegant lettering above the door.` \\n \"},\n",
       "  {'panel_number': 2,\n",
       "   'panel_description': \"Sarah, with her hair slightly damp from the rain, hurries through the coffee shop door. She's dressed in jeans, a sweater, and a light raincoat. Her expression is one of fatigue and stress.\",\n",
       "   'characters_involved': ['SARAH'],\n",
       "   'setting_involved': {'setting': 'COFFEE SHOP',\n",
       "    'perspective': 'interior',\n",
       "    'location': 'building'},\n",
       "   'ai_image_prompt': \"Generate a hyper-realistic image based on this panel description: `Sarah, with her hair slightly damp from the rain, hurries through the coffee shop door. She's dressed in jeans, a sweater, and a light raincoat. Her expression is one of fatigue and stress.` \\n Use the character descriptions provided below as a blueprint to accurately shape and define the characters: \\n * SARAH: ## Character Description:\\n\\n**Age:** Late 20s\\n\\n**Gender:** Female\\n\\n**Height:** Average \\n\\n**Build:** Slender\\n\\n**Hair:** Shoulder-length, light brown hair, usually styled in a loose, messy bun with several stray strands framing her face. \\n\\n**Eyes:** Large and expressive brown eyes, conveying a mix of weariness and optimism. \\n\\n**Facial Features:** Soft features with a gentle curve to her lips. Light freckles dust across her nose and cheeks. \\n\\n**Clothing Style:** Casual and comfortable.  Often wears well-worn jeans that fit loosely and cozy knitted sweaters in muted earth tones. The sweaters tend to be oversized and have a relaxed drape. Her footwear consists of practical sneakers or ankle boots. \\n\\n The panel is set in the following setting: \\n `The COFFEE SHOP, with its exposed brick walls painted a warm, inviting terracotta, exudes a rustic charm. Sunlight filters through large, arched windows, casting a gentle glow on the mismatched wooden furniture within. Worn leather armchairs and plush velvet sofas, in deep jewel tones of emerald and sapphire, cluster around small, round tables of dark, polished mahogany.  Antique maps and vintage coffee advertisements adorn the walls, while shelves overflow with well-worn books and board games. The air is filled with the rich aroma of roasted coffee beans, emanating from a gleaming brass espresso machine perched upon a worn, marble countertop. The soft glow of Edison bulbs strung across the ceiling casts a warm light on the patrons below, highlighting the intricate patterns of the Persian rugs scattered across the dark hardwood floor. \\n` \\n\"},\n",
       "  {'panel_number': 3,\n",
       "   'panel_description': 'Liam stands behind the counter, a welcoming smile on his face. He wears a brown apron over a blue shirt and jeans. The coffee shop is cozy and inviting, with warm lighting and the aroma of freshly brewed coffee filling the air.',\n",
       "   'characters_involved': ['LIAM'],\n",
       "   'setting_involved': {'setting': 'COFFEE SHOP',\n",
       "    'perspective': 'interior',\n",
       "    'location': 'building'},\n",
       "   'dialogue': 'LIAM: Welcome to The Daily Grind! What can I get started for you today?',\n",
       "   'ai_image_prompt': 'Generate a hyper-realistic image based on this panel description: `Liam stands behind the counter, a welcoming smile on his face. He wears a brown apron over a blue shirt and jeans. The coffee shop is cozy and inviting, with warm lighting and the aroma of freshly brewed coffee filling the air.` \\n Use the character descriptions provided below as a blueprint to accurately shape and define the characters: \\n * LIAM: ## Character Description for AI Image Prompt:\\n\\n**Age:** Early 30s\\n**Gender:** Male\\n**Height:** Average (around 5\\'9\" to 5\\'11\")\\n**Build:** Lean and slightly muscular \\n\\n**Face:**\\n*   Warm and friendly expression\\n*   Kind blue eyes\\n*   Slight smile lines around the eyes\\n\\n**Hair:**\\n*   Short brown hair, neatly combed and styled\\n*   Side part with a slight quiff in the front\\n\\n**Clothing:**\\n*   Casual attire: \\n    *   Henley shirt or a t-shirt \\n    *   Dark-wash jeans \\n    *   Canvas sneakers \\n*   Clean white apron covering the front of his torso and upper legs \\n\\n The panel is set in the following setting: \\n `The COFFEE SHOP, with its exposed brick walls painted a warm, inviting terracotta, exudes a rustic charm. Sunlight filters through large, arched windows, casting a gentle glow on the mismatched wooden furniture within. Worn leather armchairs and plush velvet sofas, in deep jewel tones of emerald and sapphire, cluster around small, round tables of dark, polished mahogany.  Antique maps and vintage coffee advertisements adorn the walls, while shelves overflow with well-worn books and board games. The air is filled with the rich aroma of roasted coffee beans, emanating from a gleaming brass espresso machine perched upon a worn, marble countertop. The soft glow of Edison bulbs strung across the ceiling casts a warm light on the patrons below, highlighting the intricate patterns of the Persian rugs scattered across the dark hardwood floor. \\n` \\n'},\n",
       "  {'panel_number': 4,\n",
       "   'panel_description': \"A close-up shot of Sarah's face as she looks at Liam, her expression softening slightly. She takes a moment to breathe and relax, taking in the comforting atmosphere of the coffee shop.\",\n",
       "   'characters_involved': ['SARAH'],\n",
       "   'setting_involved': {'setting': 'COFFEE SHOP',\n",
       "    'perspective': 'interior',\n",
       "    'location': 'building'},\n",
       "   'dialogue': \"SARAH: I'll have a latte, please.\",\n",
       "   'ai_image_prompt': \"Generate a hyper-realistic image based on this panel description: `A close-up shot of Sarah's face as she looks at Liam, her expression softening slightly. She takes a moment to breathe and relax, taking in the comforting atmosphere of the coffee shop.` \\n Use the character descriptions provided below as a blueprint to accurately shape and define the characters: \\n * SARAH: ## Character Description:\\n\\n**Age:** Late 20s\\n\\n**Gender:** Female\\n\\n**Height:** Average \\n\\n**Build:** Slender\\n\\n**Hair:** Shoulder-length, light brown hair, usually styled in a loose, messy bun with several stray strands framing her face. \\n\\n**Eyes:** Large and expressive brown eyes, conveying a mix of weariness and optimism. \\n\\n**Facial Features:** Soft features with a gentle curve to her lips. Light freckles dust across her nose and cheeks. \\n\\n**Clothing Style:** Casual and comfortable.  Often wears well-worn jeans that fit loosely and cozy knitted sweaters in muted earth tones. The sweaters tend to be oversized and have a relaxed drape. Her footwear consists of practical sneakers or ankle boots. \\n\\n The panel is set in the following setting: \\n `The COFFEE SHOP, with its exposed brick walls painted a warm, inviting terracotta, exudes a rustic charm. Sunlight filters through large, arched windows, casting a gentle glow on the mismatched wooden furniture within. Worn leather armchairs and plush velvet sofas, in deep jewel tones of emerald and sapphire, cluster around small, round tables of dark, polished mahogany.  Antique maps and vintage coffee advertisements adorn the walls, while shelves overflow with well-worn books and board games. The air is filled with the rich aroma of roasted coffee beans, emanating from a gleaming brass espresso machine perched upon a worn, marble countertop. The soft glow of Edison bulbs strung across the ceiling casts a warm light on the patrons below, highlighting the intricate patterns of the Persian rugs scattered across the dark hardwood floor. \\n` \\n\"},\n",
       "  {'panel_number': 5,\n",
       "   'panel_description': 'Liam carefully grinds coffee beans, the rich aroma filling the air. He measures the espresso with precision and expertly steams the milk to a smooth, velvety texture.',\n",
       "   'characters_involved': ['LIAM'],\n",
       "   'setting_involved': {'setting': 'COFFEE SHOP',\n",
       "    'perspective': 'interior',\n",
       "    'location': 'building'},\n",
       "   'ai_image_prompt': 'Generate a hyper-realistic image based on this panel description: `Liam carefully grinds coffee beans, the rich aroma filling the air. He measures the espresso with precision and expertly steams the milk to a smooth, velvety texture.` \\n Use the character descriptions provided below as a blueprint to accurately shape and define the characters: \\n * LIAM: ## Character Description for AI Image Prompt:\\n\\n**Age:** Early 30s\\n**Gender:** Male\\n**Height:** Average (around 5\\'9\" to 5\\'11\")\\n**Build:** Lean and slightly muscular \\n\\n**Face:**\\n*   Warm and friendly expression\\n*   Kind blue eyes\\n*   Slight smile lines around the eyes\\n\\n**Hair:**\\n*   Short brown hair, neatly combed and styled\\n*   Side part with a slight quiff in the front\\n\\n**Clothing:**\\n*   Casual attire: \\n    *   Henley shirt or a t-shirt \\n    *   Dark-wash jeans \\n    *   Canvas sneakers \\n*   Clean white apron covering the front of his torso and upper legs \\n\\n The panel is set in the following setting: \\n `The COFFEE SHOP, with its exposed brick walls painted a warm, inviting terracotta, exudes a rustic charm. Sunlight filters through large, arched windows, casting a gentle glow on the mismatched wooden furniture within. Worn leather armchairs and plush velvet sofas, in deep jewel tones of emerald and sapphire, cluster around small, round tables of dark, polished mahogany.  Antique maps and vintage coffee advertisements adorn the walls, while shelves overflow with well-worn books and board games. The air is filled with the rich aroma of roasted coffee beans, emanating from a gleaming brass espresso machine perched upon a worn, marble countertop. The soft glow of Edison bulbs strung across the ceiling casts a warm light on the patrons below, highlighting the intricate patterns of the Persian rugs scattered across the dark hardwood floor. \\n` \\n'},\n",
       "  {'panel_number': 6,\n",
       "   'panel_description': 'Liam pours the steamed milk into the espresso, creating beautiful latte art – a delicate rosetta pattern.',\n",
       "   'characters_involved': ['LIAM'],\n",
       "   'setting_involved': {'setting': 'COFFEE SHOP',\n",
       "    'perspective': 'interior',\n",
       "    'location': 'building'},\n",
       "   'ai_image_prompt': 'Generate a hyper-realistic image based on this panel description: `Liam pours the steamed milk into the espresso, creating beautiful latte art – a delicate rosetta pattern.` \\n Use the character descriptions provided below as a blueprint to accurately shape and define the characters: \\n * LIAM: ## Character Description for AI Image Prompt:\\n\\n**Age:** Early 30s\\n**Gender:** Male\\n**Height:** Average (around 5\\'9\" to 5\\'11\")\\n**Build:** Lean and slightly muscular \\n\\n**Face:**\\n*   Warm and friendly expression\\n*   Kind blue eyes\\n*   Slight smile lines around the eyes\\n\\n**Hair:**\\n*   Short brown hair, neatly combed and styled\\n*   Side part with a slight quiff in the front\\n\\n**Clothing:**\\n*   Casual attire: \\n    *   Henley shirt or a t-shirt \\n    *   Dark-wash jeans \\n    *   Canvas sneakers \\n*   Clean white apron covering the front of his torso and upper legs \\n\\n The panel is set in the following setting: \\n `The COFFEE SHOP, with its exposed brick walls painted a warm, inviting terracotta, exudes a rustic charm. Sunlight filters through large, arched windows, casting a gentle glow on the mismatched wooden furniture within. Worn leather armchairs and plush velvet sofas, in deep jewel tones of emerald and sapphire, cluster around small, round tables of dark, polished mahogany.  Antique maps and vintage coffee advertisements adorn the walls, while shelves overflow with well-worn books and board games. The air is filled with the rich aroma of roasted coffee beans, emanating from a gleaming brass espresso machine perched upon a worn, marble countertop. The soft glow of Edison bulbs strung across the ceiling casts a warm light on the patrons below, highlighting the intricate patterns of the Persian rugs scattered across the dark hardwood floor. \\n` \\n'},\n",
       "  {'panel_number': 7,\n",
       "   'panel_description': 'Sarah takes her first sip of the latte, her eyes closing in contentment. Her tense shoulders relax, and a small smile appears on her face. The warmth of the coffee spreads through her, chasing away the chill of the rainy day.',\n",
       "   'characters_involved': ['SARAH'],\n",
       "   'setting_involved': {'setting': 'COFFEE SHOP',\n",
       "    'perspective': 'interior',\n",
       "    'location': 'building'},\n",
       "   'ai_image_prompt': 'Generate a hyper-realistic image based on this panel description: `Sarah takes her first sip of the latte, her eyes closing in contentment. Her tense shoulders relax, and a small smile appears on her face. The warmth of the coffee spreads through her, chasing away the chill of the rainy day.` \\n Use the character descriptions provided below as a blueprint to accurately shape and define the characters: \\n * SARAH: ## Character Description:\\n\\n**Age:** Late 20s\\n\\n**Gender:** Female\\n\\n**Height:** Average \\n\\n**Build:** Slender\\n\\n**Hair:** Shoulder-length, light brown hair, usually styled in a loose, messy bun with several stray strands framing her face. \\n\\n**Eyes:** Large and expressive brown eyes, conveying a mix of weariness and optimism. \\n\\n**Facial Features:** Soft features with a gentle curve to her lips. Light freckles dust across her nose and cheeks. \\n\\n**Clothing Style:** Casual and comfortable.  Often wears well-worn jeans that fit loosely and cozy knitted sweaters in muted earth tones. The sweaters tend to be oversized and have a relaxed drape. Her footwear consists of practical sneakers or ankle boots. \\n\\n The panel is set in the following setting: \\n `The COFFEE SHOP, with its exposed brick walls painted a warm, inviting terracotta, exudes a rustic charm. Sunlight filters through large, arched windows, casting a gentle glow on the mismatched wooden furniture within. Worn leather armchairs and plush velvet sofas, in deep jewel tones of emerald and sapphire, cluster around small, round tables of dark, polished mahogany.  Antique maps and vintage coffee advertisements adorn the walls, while shelves overflow with well-worn books and board games. The air is filled with the rich aroma of roasted coffee beans, emanating from a gleaming brass espresso machine perched upon a worn, marble countertop. The soft glow of Edison bulbs strung across the ceiling casts a warm light on the patrons below, highlighting the intricate patterns of the Persian rugs scattered across the dark hardwood floor. \\n` \\n'},\n",
       "  {'panel_number': 8,\n",
       "   'panel_description': 'Sarah leaves the coffee shop, stepping back into the drizzle. She now has a newfound spring in her step and a genuine smile on her face. She holds the warm coffee cup close, ready to face the rest of her day.',\n",
       "   'characters_involved': ['SARAH'],\n",
       "   'setting_involved': {'setting': 'COFFEE SHOP',\n",
       "    'perspective': 'exterior',\n",
       "    'location': 'building'},\n",
       "   'ai_image_prompt': 'Generate a hyper-realistic image based on this panel description: `Sarah leaves the coffee shop, stepping back into the drizzle. She now has a newfound spring in her step and a genuine smile on her face. She holds the warm coffee cup close, ready to face the rest of her day.` \\n Use the character descriptions provided below as a blueprint to accurately shape and define the characters: \\n * SARAH: ## Character Description:\\n\\n**Age:** Late 20s\\n\\n**Gender:** Female\\n\\n**Height:** Average \\n\\n**Build:** Slender\\n\\n**Hair:** Shoulder-length, light brown hair, usually styled in a loose, messy bun with several stray strands framing her face. \\n\\n**Eyes:** Large and expressive brown eyes, conveying a mix of weariness and optimism. \\n\\n**Facial Features:** Soft features with a gentle curve to her lips. Light freckles dust across her nose and cheeks. \\n\\n**Clothing Style:** Casual and comfortable.  Often wears well-worn jeans that fit loosely and cozy knitted sweaters in muted earth tones. The sweaters tend to be oversized and have a relaxed drape. Her footwear consists of practical sneakers or ankle boots. \\n\\n'}]}"
      ]
     },
     "execution_count": 32,
     "metadata": {},
     "output_type": "execute_result"
    }
   ],
   "source": [
    "main_script"
   ]
  },
  {
   "cell_type": "markdown",
   "id": "6ff4fc4b-fdbf-4697-b7be-bd8e80fd96c4",
   "metadata": {},
   "source": [
    "# Images"
   ]
  },
  {
   "cell_type": "code",
   "execution_count": 60,
   "id": "620054e4-6267-4fd9-98c4-16268a63a9fe",
   "metadata": {},
   "outputs": [],
   "source": [
    "for i in range(len(main_script['panels'])):\n",
    "    AI_image_generation2(main_script, i)"
   ]
  },
  {
   "cell_type": "code",
   "execution_count": null,
   "id": "126dca35-aea0-4eba-9fb7-80ac57b6fbf5",
   "metadata": {},
   "outputs": [],
   "source": []
  }
 ],
 "metadata": {
  "kernelspec": {
   "display_name": "Python 3 (ipykernel)",
   "language": "python",
   "name": "python3"
  },
  "language_info": {
   "codemirror_mode": {
    "name": "ipython",
    "version": 3
   },
   "file_extension": ".py",
   "mimetype": "text/x-python",
   "name": "python",
   "nbconvert_exporter": "python",
   "pygments_lexer": "ipython3",
   "version": "3.11.8"
  }
 },
 "nbformat": 4,
 "nbformat_minor": 5
}
