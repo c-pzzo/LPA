{
 "cells": [
  {
   "cell_type": "markdown",
   "id": "7fddeb08",
   "metadata": {},
   "source": [
    "# Main Code"
   ]
  },
  {
   "cell_type": "code",
   "execution_count": 1,
   "id": "d968287c",
   "metadata": {},
   "outputs": [],
   "source": [
    "from LPA_functions import *"
   ]
  },
  {
   "cell_type": "code",
   "execution_count": 2,
   "id": "d7e700fb-eea3-4453-8eed-31576f6502ea",
   "metadata": {},
   "outputs": [
    {
     "data": {
      "text/plain": [
       "openai.RateLimitError(\"Error code: 429 - {'error': {'message': 'You exceeded your current quota, please check your plan and billing details. For more information on this error, read the docs: https://platform.openai.com/docs/guides/error-codes/api-errors.', 'type': 'insufficient_quota', 'param': None, 'code': 'insufficient_quota'}}\")"
      ]
     },
     "execution_count": 2,
     "metadata": {},
     "output_type": "execute_result"
    }
   ],
   "source": [
    "openai_api_key = pd.read_csv(r'/home/cesar/Coding/openai_api.txt', header=None)[0][0]\n",
    "openai_api_test(openai_api_key)"
   ]
  },
  {
   "cell_type": "code",
   "execution_count": 3,
   "id": "d1645676-b212-494e-a672-1b2275dafbd3",
   "metadata": {},
   "outputs": [
    {
     "data": {
      "text/plain": [
       "'Ok'"
      ]
     },
     "execution_count": 3,
     "metadata": {},
     "output_type": "execute_result"
    }
   ],
   "source": [
    "# TEST\n",
    "googleai_api_key = pd.read_csv(r'/home/cesar/Coding/GoogleAI-API-key.txt', header=None)[0][0]\n",
    "google_api_test(googleai_api_key)"
   ]
  },
  {
   "cell_type": "code",
   "execution_count": 4,
   "id": "04704d21-d4c9-45d6-bb54-cf1ec526db19",
   "metadata": {},
   "outputs": [],
   "source": [
    "genai_model = genai.GenerativeModel(model_name='models/gemini-1.5-pro-latest')\n",
    "client = OpenAI()"
   ]
  },
  {
   "cell_type": "code",
   "execution_count": 5,
   "id": "369f18ce-e2b9-4249-85c2-a74b0ac67a4b",
   "metadata": {},
   "outputs": [],
   "source": [
    "# User input for a story idea. Entertainment, Business, Education\n",
    "user_input = \"A commercial about coffee in a coffee shop\""
   ]
  },
  {
   "cell_type": "code",
   "execution_count": 7,
   "id": "2cb2efb1-3237-4e6a-b136-fc8b1538c91f",
   "metadata": {},
   "outputs": [
    {
     "ename": "NameError",
     "evalue": "name 'genai_model' is not defined",
     "output_type": "error",
     "traceback": [
      "\u001b[0;31m---------------------------------------------------------------------------\u001b[0m",
      "\u001b[0;31mNameError\u001b[0m                                 Traceback (most recent call last)",
      "\u001b[0;32m/tmp/ipykernel_5958/2449623008.py\u001b[0m in \u001b[0;36m<module>\u001b[0;34m\u001b[0m\n\u001b[1;32m      1\u001b[0m \u001b[0;31m# A meta analysis of what the user wants to make a story about\u001b[0m\u001b[0;34m\u001b[0m\u001b[0;34m\u001b[0m\u001b[0m\n\u001b[0;32m----> 2\u001b[0;31m \u001b[0mp0\u001b[0m            \u001b[0;34m=\u001b[0m \u001b[0ms0_meta_userprompt_info\u001b[0m\u001b[0;34m(\u001b[0m\u001b[0muser_input\u001b[0m\u001b[0;34m)\u001b[0m\u001b[0;34m\u001b[0m\u001b[0;34m\u001b[0m\u001b[0m\n\u001b[0m",
      "\u001b[0;32m~/Coding/Local_Projects/Python_Projects/Google Hackaton/LPA/python/LPA_functions.py\u001b[0m in \u001b[0;36ms0_meta_userprompt_info\u001b[0;34m(user_input)\u001b[0m\n\u001b[1;32m    148\u001b[0m     \"\"\"    \n\u001b[1;32m    149\u001b[0m \u001b[0;34m\u001b[0m\u001b[0m\n\u001b[0;32m--> 150\u001b[0;31m     \u001b[0mp0\u001b[0m  \u001b[0;34m=\u001b[0m \u001b[0mdummy_json_parser\u001b[0m\u001b[0;34m(\u001b[0m\u001b[0mt2t\u001b[0m\u001b[0;34m,\u001b[0m \u001b[0mprompt_ui\u001b[0m\u001b[0;34m)\u001b[0m\u001b[0;34m\u001b[0m\u001b[0;34m\u001b[0m\u001b[0m\n\u001b[0m\u001b[1;32m    151\u001b[0m \u001b[0;34m\u001b[0m\u001b[0m\n\u001b[1;32m    152\u001b[0m     \u001b[0;32mreturn\u001b[0m \u001b[0mp0\u001b[0m\u001b[0;34m\u001b[0m\u001b[0;34m\u001b[0m\u001b[0m\n",
      "\u001b[0;32m~/Coding/Local_Projects/Python_Projects/Google Hackaton/LPA/python/LPA_functions.py\u001b[0m in \u001b[0;36mdummy_json_parser\u001b[0;34m(model, prompt)\u001b[0m\n\u001b[1;32m    117\u001b[0m \u001b[0;32mdef\u001b[0m \u001b[0mdummy_json_parser\u001b[0m\u001b[0;34m(\u001b[0m\u001b[0mmodel\u001b[0m\u001b[0;34m,\u001b[0m \u001b[0mprompt\u001b[0m\u001b[0;34m)\u001b[0m\u001b[0;34m:\u001b[0m\u001b[0;34m\u001b[0m\u001b[0;34m\u001b[0m\u001b[0m\n\u001b[1;32m    118\u001b[0m     \u001b[0;31m# Dummy function for text to JSON parser\u001b[0m\u001b[0;34m\u001b[0m\u001b[0;34m\u001b[0m\u001b[0m\n\u001b[0;32m--> 119\u001b[0;31m     \u001b[0mparser\u001b[0m \u001b[0;34m=\u001b[0m \u001b[0mmodel\u001b[0m\u001b[0;34m(\u001b[0m\u001b[0mprompt\u001b[0m\u001b[0;34m)\u001b[0m\u001b[0;34m\u001b[0m\u001b[0;34m\u001b[0m\u001b[0m\n\u001b[0m\u001b[1;32m    120\u001b[0m     \u001b[0mparser\u001b[0m \u001b[0;34m=\u001b[0m \u001b[0mparser\u001b[0m\u001b[0;34m.\u001b[0m\u001b[0mreplace\u001b[0m\u001b[0;34m(\u001b[0m\u001b[0;34m\"\\n\"\u001b[0m\u001b[0;34m,\u001b[0m \u001b[0;34m\"\"\u001b[0m\u001b[0;34m)\u001b[0m\u001b[0;34m\u001b[0m\u001b[0;34m\u001b[0m\u001b[0m\n\u001b[1;32m    121\u001b[0m     \u001b[0mparser\u001b[0m \u001b[0;34m=\u001b[0m \u001b[0mparser\u001b[0m\u001b[0;34m.\u001b[0m\u001b[0mreplace\u001b[0m\u001b[0;34m(\u001b[0m\u001b[0;34m\"json{\"\u001b[0m\u001b[0;34m,\u001b[0m \u001b[0;34m\"{\"\u001b[0m\u001b[0;34m)\u001b[0m\u001b[0;34m\u001b[0m\u001b[0;34m\u001b[0m\u001b[0m\n",
      "\u001b[0;32m~/Coding/Local_Projects/Python_Projects/Google Hackaton/LPA/python/LPA_functions.py\u001b[0m in \u001b[0;36mt2t\u001b[0;34m(text)\u001b[0m\n\u001b[1;32m     66\u001b[0m \u001b[0;31m### > Text-to-text\u001b[0m\u001b[0;34m\u001b[0m\u001b[0;34m\u001b[0m\u001b[0m\n\u001b[1;32m     67\u001b[0m \u001b[0;32mdef\u001b[0m \u001b[0mt2t\u001b[0m\u001b[0;34m(\u001b[0m\u001b[0mtext\u001b[0m\u001b[0;34m)\u001b[0m\u001b[0;34m:\u001b[0m\u001b[0;34m\u001b[0m\u001b[0;34m\u001b[0m\u001b[0m\n\u001b[0;32m---> 68\u001b[0;31m     \u001b[0mresponse\u001b[0m \u001b[0;34m=\u001b[0m \u001b[0mgenai_model\u001b[0m\u001b[0;34m.\u001b[0m\u001b[0mgenerate_content\u001b[0m\u001b[0;34m(\u001b[0m\u001b[0mtext\u001b[0m\u001b[0;34m)\u001b[0m\u001b[0;34m\u001b[0m\u001b[0;34m\u001b[0m\u001b[0m\n\u001b[0m\u001b[1;32m     69\u001b[0m \u001b[0;34m\u001b[0m\u001b[0m\n\u001b[1;32m     70\u001b[0m     \u001b[0;32mreturn\u001b[0m \u001b[0mresponse\u001b[0m\u001b[0;34m.\u001b[0m\u001b[0mtext\u001b[0m\u001b[0;34m\u001b[0m\u001b[0;34m\u001b[0m\u001b[0m\n",
      "\u001b[0;31mNameError\u001b[0m: name 'genai_model' is not defined"
     ]
    }
   ],
   "source": [
    "# A meta analysis of what the user wants to make a story about\n",
    "p0            = s0_meta_userprompt_info(user_input)"
   ]
  },
  {
   "cell_type": "code",
   "execution_count": null,
   "id": "352fefda-f682-431e-9b10-4ff04b02e295",
   "metadata": {},
   "outputs": [],
   "source": [
    "# AI enhancement of the story idea \n",
    "main_plotline = s1_scene_treatment(p0)"
   ]
  },
  {
   "cell_type": "code",
   "execution_count": null,
   "id": "9004aaac-f423-4b2f-8739-de69b0d08d65",
   "metadata": {},
   "outputs": [],
   "source": [
    "# A main script is generated structured as a JSON file\n",
    "main_script   = s2_script_prompt(p0, main_plotline)"
   ]
  },
  {
   "cell_type": "code",
   "execution_count": null,
   "id": "99bf6aa9-07cd-4139-89a0-af46220ac84c",
   "metadata": {},
   "outputs": [],
   "source": [
    "# Write out main_script. Any previous script will be overwritten\n",
    "with open('main_script.json', 'w') as f:\n",
    "    json.dump(main_script, f)"
   ]
  },
  {
   "cell_type": "code",
   "execution_count": null,
   "id": "4f105114-4b4b-4969-97cd-fd105a3addc1",
   "metadata": {},
   "outputs": [],
   "source": [
    "# This cell can be executed multiple times to change location descriptions\n",
    "new_script    = main_script\n",
    "new_script    = s3_internal_setting_update(new_script)"
   ]
  },
  {
   "cell_type": "code",
   "execution_count": null,
   "id": "7f04989f-2329-4ad0-a4d2-e33f54a18276",
   "metadata": {},
   "outputs": [],
   "source": [
    "# This cell can be executed multiple times to change character descriptions\n",
    "new_script    = s3_internal_character_update(new_script)"
   ]
  },
  {
   "cell_type": "code",
   "execution_count": null,
   "id": "d92aca82-7bde-42b9-9f5e-f510aabc7a38",
   "metadata": {},
   "outputs": [],
   "source": [
    "# Script augmentation with thorough image descriptions for consistent AI image generation.\n",
    "main_script   = new_script\n",
    "main_script   = s4_AIimage_generation(main_script)"
   ]
  },
  {
   "cell_type": "code",
   "execution_count": null,
   "id": "e4e3149c-acf5-4ec9-9ce0-786458076aa4",
   "metadata": {},
   "outputs": [],
   "source": [
    "main_script"
   ]
  },
  {
   "cell_type": "markdown",
   "id": "6ff4fc4b-fdbf-4697-b7be-bd8e80fd96c4",
   "metadata": {},
   "source": [
    "# Images"
   ]
  },
  {
   "cell_type": "code",
   "execution_count": null,
   "id": "41fe1207-1403-48e5-9a52-d29e058839a1",
   "metadata": {},
   "outputs": [],
   "source": [
    "# Delete any previous iteration of images\n",
    "files = glob.glob('../static/images/*')\n",
    "for f in files:\n",
    "    os.remove(f)"
   ]
  },
  {
   "cell_type": "code",
   "execution_count": null,
   "id": "620054e4-6267-4fd9-98c4-16268a63a9fe",
   "metadata": {},
   "outputs": [],
   "source": [
    "# Generate AI images\n",
    "for i in range(len(main_script['panels'])):\n",
    "    AI_image_generation(main_script, i)"
   ]
  }
 ],
 "metadata": {
  "kernelspec": {
   "display_name": "Python 3 (ipykernel)",
   "language": "python",
   "name": "python3"
  },
  "language_info": {
   "codemirror_mode": {
    "name": "ipython",
    "version": 3
   },
   "file_extension": ".py",
   "mimetype": "text/x-python",
   "name": "python",
   "nbconvert_exporter": "python",
   "pygments_lexer": "ipython3",
   "version": "3.10.12"
  }
 },
 "nbformat": 4,
 "nbformat_minor": 5
}
